{
 "cells": [
  {
   "cell_type": "code",
   "execution_count": 5,
   "metadata": {
    "collapsed": true
   },
   "outputs": [],
   "source": [
    "longUrl = 'https://leetcode.com/problems/design-tinyurl'"
   ]
  },
  {
   "cell_type": "code",
   "execution_count": 41,
   "metadata": {
    "collapsed": true
   },
   "outputs": [],
   "source": [
    "def encode(longUrl):\n",
    "    import string, random\n",
    "    shortUrl = 'http://tinyurl.com/' + ''.join(random.sample((string.ascii_uppercase + string.ascii_lowercase + string.digits)*6, 6))\n",
    "    return shortUrl"
   ]
  },
  {
   "cell_type": "code",
   "execution_count": 42,
   "metadata": {
    "collapsed": false
   },
   "outputs": [
    {
     "data": {
      "text/plain": [
       "'http://tinyurl.com/1rBFxO'"
      ]
     },
     "execution_count": 42,
     "metadata": {},
     "output_type": "execute_result"
    }
   ],
   "source": [
    "encode(longUrl)"
   ]
  },
  {
   "cell_type": "code",
   "execution_count": 46,
   "metadata": {
    "collapsed": true
   },
   "outputs": [],
   "source": [
    "import random\n",
    "import string\n",
    "\n",
    "class Codec:\n",
    "    def __init__(self):\n",
    "        self.url_pair = {}\n",
    "        \n",
    "    def encode(self, longUrl):\n",
    "        shortUrl = 'http://tinyurl.com/' + ''.join(random.sample((string.ascii_uppercase + string.ascii_lowercase + string.digits)*6, 6))\n",
    "        self.url_pair[shortUrl] = longUrl\n",
    "        return shortUrl\n",
    "    \n",
    "    def decode(self, shortUrl):\n",
    "        return self.url_pair[shortUrl]"
   ]
  },
  {
   "cell_type": "code",
   "execution_count": null,
   "metadata": {
    "collapsed": true
   },
   "outputs": [],
   "source": []
  }
 ],
 "metadata": {
  "anaconda-cloud": {},
  "kernelspec": {
   "display_name": "Python [default]",
   "language": "python",
   "name": "python3"
  },
  "language_info": {
   "codemirror_mode": {
    "name": "ipython",
    "version": 3
   },
   "file_extension": ".py",
   "mimetype": "text/x-python",
   "name": "python",
   "nbconvert_exporter": "python",
   "pygments_lexer": "ipython3",
   "version": "3.5.3"
  }
 },
 "nbformat": 4,
 "nbformat_minor": 2
}
